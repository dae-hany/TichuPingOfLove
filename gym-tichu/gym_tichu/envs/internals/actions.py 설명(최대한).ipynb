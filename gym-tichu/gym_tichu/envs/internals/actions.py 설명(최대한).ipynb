{
 "cells": [
  {
   "cell_type": "markdown",
   "metadata": {},
   "source": [
    "# import "
   ]
  },
  {
   "cell_type": "markdown",
   "metadata": {},
   "source": [
    "* _abc_ : 추상 클래스 정의\n",
    "* _namedtuple_ : 튜플에 이름 부여 -> 데이터 구조화 \n",
    "* _Optinal, Generator, Sequence, List_ -> 타입 힌트 제공, 안전성 \n",
    "* _timecall_ \n",
    "* _itertools_ : 반복 작업\n",
    "* _logging_ : 로깅 "
   ]
  },
  {
   "cell_type": "markdown",
   "metadata": {},
   "source": [
    "# all\n",
    "1. PlayerAction\n",
    "2. PlayCombination\n",
    "3. CardTrade\n",
    "4. TradeAction\n",
    "5. PlayFrist\n",
    "6. PlayDog\n",
    "7. PlayBomb\n",
    "7. PassAction\n",
    "8. TichuAction\n",
    "9. WinTrickAction\n",
    "10. GiveDragonAwayAction\n",
    "11. WishAction\n",
    "12. pass_actions\n",
    "13. tichu_actions\n",
    "14. no_tichu_actions\n",
    "15. play_dog_actions\n",
    "16. all_wish_actions_gen\n",
    "17. trick\n",
    "18. FinishedTrick\n",
    "19. wishable_card_ranks"
   ]
  },
  {
   "cell_type": "markdown",
   "metadata": {},
   "source": [
    "## 1. PlayerAction"
   ]
  },
  {
   "cell_type": "markdown",
   "metadata": {},
   "source": [
    "추상 클래스\n",
    "### 1-1. init \n",
    "> 생성자에서 player_pos를 받음. \n",
    "> player_pos 값은 0, 1, 2, 3 중 하나임.\n",
    "### 1-2. player_pos\n",
    "### 1-3. hash\n",
    "> PlayerAction 객체가 해시 가능한지 결정\n",
    "### 1-4. eq\n",
    "> 두 개의 PlayerAction 객체를 비교할 때 사용\n",
    "### 1-5. repr\n",
    "> 객체의 표현을 문자열로 반환 "
   ]
  },
  {
   "cell_type": "markdown",
   "metadata": {},
   "source": [
    "## 2. PlayCombination\n",
    "PlayerAction을 상속받은 클래스"
   ]
  },
  {
   "cell_type": "markdown",
   "metadata": {},
   "source": [
    "### 2-1.\n",
    "### 2-2.\n",
    "### 2-3.\n",
    "### 2-4.\n",
    "### 2-5.\n",
    "### 2-6."
   ]
  }
 ],
 "metadata": {
  "language_info": {
   "name": "python"
  }
 },
 "nbformat": 4,
 "nbformat_minor": 2
}
